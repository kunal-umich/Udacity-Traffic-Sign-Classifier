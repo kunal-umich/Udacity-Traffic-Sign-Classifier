{
 "cells": [
  {
   "cell_type": "markdown",
   "metadata": {},
   "source": [
    "# Self-Driving Car Engineer Nanodegree\n",
    "\n",
    "## Deep Learning\n",
    "\n",
    "## Project: Build a Traffic Sign Recognition Classifier\n",
    "\n",
    "In this notebook, a template is provided for you to implement your functionality in stages, which is required to successfully complete this project. If additional code is required that cannot be included in the notebook, be sure that the Python code is successfully imported and included in your submission if necessary. \n",
    "\n",
    "> **Note**: Once you have completed all of the code implementations, you need to finalize your work by exporting the iPython Notebook as an HTML document. Before exporting the notebook to html, all of the code cells need to have been run so that reviewers can see the final implementation and output. You can then export the notebook by using the menu above and navigating to  \\n\",\n",
    "    \"**File -> Download as -> HTML (.html)**. Include the finished document along with this notebook as your submission. \n",
    "\n",
    "In addition to implementing code, there is a writeup to complete. The writeup should be completed in a separate file, which can be either a markdown file or a pdf document. There is a [write up template](https://github.com/udacity/CarND-Traffic-Sign-Classifier-Project/blob/master/writeup_template.md) that can be used to guide the writing process. Completing the code template and writeup template will cover all of the [rubric points](https://review.udacity.com/#!/rubrics/481/view) for this project.\n",
    "\n",
    "The [rubric](https://review.udacity.com/#!/rubrics/481/view) contains \"Stand Out Suggestions\" for enhancing the project beyond the minimum requirements. The stand out suggestions are optional. If you decide to pursue the \"stand out suggestions\", you can include the code in this Ipython notebook and also discuss the results in the writeup file.\n",
    "\n",
    "\n",
    ">**Note:** Code and Markdown cells can be executed using the **Shift + Enter** keyboard shortcut. In addition, Markdown cells can be edited by typically double-clicking the cell to enter edit mode."
   ]
  },
  {
   "cell_type": "markdown",
   "metadata": {},
   "source": [
    "---\n",
    "## Step 0: Load The Data"
   ]
  },
  {
   "cell_type": "code",
   "execution_count": 1,
   "metadata": {},
   "outputs": [],
   "source": [
    "# Load pickled data\n",
    "import pickle\n",
    "\n",
    "# TODO: Fill this in based on where you saved the training and testing data\n",
    "\n",
    "training_file = \"../data/train.p\" \n",
    "validation_file= \"../data/valid.p\"\n",
    "testing_file = \"../data/test.p\"\n",
    "\n",
    "with open(training_file, mode='rb') as f:\n",
    "    train = pickle.load(f)\n",
    "with open(validation_file, mode='rb') as f:\n",
    "    valid = pickle.load(f)\n",
    "with open(testing_file, mode='rb') as f:\n",
    "    test = pickle.load(f)\n",
    "    \n",
    "X_train, y_train = train['features'], train['labels']\n",
    "X_valid, y_valid = valid['features'], valid['labels']\n",
    "X_test, y_test = test['features'], test['labels']"
   ]
  },
  {
   "cell_type": "markdown",
   "metadata": {},
   "source": [
    "---\n",
    "\n",
    "## Step 1: Dataset Summary & Exploration\n",
    "\n",
    "The pickled data is a dictionary with 4 key/value pairs:\n",
    "\n",
    "- `'features'` is a 4D array containing raw pixel data of the traffic sign images, (num examples, width, height, channels).\n",
    "- `'labels'` is a 1D array containing the label/class id of the traffic sign. The file `signnames.csv` contains id -> name mappings for each id.\n",
    "- `'sizes'` is a list containing tuples, (width, height) representing the original width and height the image.\n",
    "- `'coords'` is a list containing tuples, (x1, y1, x2, y2) representing coordinates of a bounding box around the sign in the image. **THESE COORDINATES ASSUME THE ORIGINAL IMAGE. THE PICKLED DATA CONTAINS RESIZED VERSIONS (32 by 32) OF THESE IMAGES**\n",
    "\n",
    "Complete the basic data summary below. Use python, numpy and/or pandas methods to calculate the data summary rather than hard coding the results. For example, the [pandas shape method](http://pandas.pydata.org/pandas-docs/stable/generated/pandas.DataFrame.shape.html) might be useful for calculating some of the summary results. "
   ]
  },
  {
   "cell_type": "markdown",
   "metadata": {},
   "source": [
    "### Provide a Basic Summary of the Data Set Using Python, Numpy and/or Pandas"
   ]
  },
  {
   "cell_type": "code",
   "execution_count": 2,
   "metadata": {},
   "outputs": [
    {
     "name": "stdout",
     "output_type": "stream",
     "text": [
      "Number of training examples = 34799\n",
      "Number of testing examples = 12630\n",
      "Image data shape = (32, 32, 3)\n",
      "Number of classes = 43\n"
     ]
    }
   ],
   "source": [
    "### Replace each question mark with the appropriate value. \n",
    "### Use python, pandas or numpy methods rather than hard coding the results\n",
    "# TODO: Number of training examples\n",
    "n_train = len(X_train)\n",
    "\n",
    "# TODO: Number of validation examples\n",
    "n_validation = len(X_valid)\n",
    "\n",
    "# TODO: Number of testing examples.\n",
    "n_test = len(X_test)\n",
    "\n",
    "# TODO: What's the shape of an traffic sign image?\n",
    "image_shape = X_train[0].shape\n",
    "\n",
    "# TODO: How many unique classes/labels there are in the dataset.\n",
    "y_labels = set(y_train)\n",
    "n_classes = len(y_labels)\n",
    "\n",
    "print(\"Number of training examples =\", n_train)\n",
    "print(\"Number of testing examples =\", n_test)\n",
    "print(\"Image data shape =\", image_shape)\n",
    "print(\"Number of classes =\", n_classes)"
   ]
  },
  {
   "cell_type": "markdown",
   "metadata": {},
   "source": [
    "### Include an exploratory visualization of the dataset"
   ]
  },
  {
   "cell_type": "markdown",
   "metadata": {},
   "source": [
    "Visualize the German Traffic Signs Dataset using the pickled file(s). This is open ended, suggestions include: plotting traffic sign images, plotting the count of each sign, etc. \n",
    "\n",
    "The [Matplotlib](http://matplotlib.org/) [examples](http://matplotlib.org/examples/index.html) and [gallery](http://matplotlib.org/gallery.html) pages are a great resource for doing visualizations in Python.\n",
    "\n",
    "**NOTE:** It's recommended you start with something simple first. If you wish to do more, come back to it after you've completed the rest of the sections. It can be interesting to look at the distribution of classes in the training, validation and test set. Is the distribution the same? Are there more examples of some classes than others?"
   ]
  },
  {
   "cell_type": "code",
   "execution_count": 3,
   "metadata": {},
   "outputs": [],
   "source": [
    "import csv\n",
    "\n",
    "with open('signnames.csv') as csv_file:\n",
    "    csv_reader = csv.reader(csv_file, delimiter=',')\n",
    "    ## Skip the header\n",
    "    ## Reference : https://stackoverflow.com/questions/48716446/python-skip-header-row-with-csv-reader\n",
    "    next(csv_reader, None)\n",
    "    labels_dict = {}\n",
    "    for row in csv_reader:\n",
    "        labels_dict[int(row[0])] = row[1]"
   ]
  },
  {
   "cell_type": "code",
   "execution_count": 4,
   "metadata": {},
   "outputs": [
    {
     "data": {
      "text/plain": [
       "Text(0.5,0,'Ahead only')"
      ]
     },
     "execution_count": 4,
     "metadata": {},
     "output_type": "execute_result"
    },
    {
     "data": {
      "image/png": "[encoded data removed]",
      "text/plain": [
       "<matplotlib.figure.Figure at 0x7fb6ac7afdd8>"
      ]
     },
     "metadata": {
      "needs_background": "light"
     },
     "output_type": "display_data"
    }
   ],
   "source": [
    "### Data exploration visualization code goes here.\n",
    "### Feel free to use as many code cells as needed.\n",
    "import matplotlib.pyplot as plt\n",
    "#from skimage.io import imread, imshow\n",
    "# Visualizations will be shown in the notebook.\n",
    "%matplotlib inline\n",
    "\n",
    "f, (ax1, ax2, ax3, ax4) = plt.subplots(1, 4, figsize=(20,10))\n",
    "ax1.imshow(X_train[10000])\n",
    "ax1.set_xlabel(labels_dict[y_train[10000]])\n",
    "ax2.imshow(X_train[5000])\n",
    "ax2.set_xlabel(labels_dict[y_train[5000]])\n",
    "ax3.imshow(X_train[15000])\n",
    "ax3.set_xlabel(labels_dict[y_train[15000]])\n",
    "ax4.imshow(X_train[20000])\n",
    "ax4.set_xlabel(labels_dict[y_train[20000]])\n"
   ]
  },
  {
   "cell_type": "code",
   "execution_count": 5,
   "metadata": {},
   "outputs": [
    {
     "data": {
      "image/png": "[encoded data removed]",
      "text/plain": [
       "<matplotlib.figure.Figure at 0x7fb69ecf42e8>"
      ]
     },
     "metadata": {
      "needs_background": "light"
     },
     "output_type": "display_data"
    }
   ],
   "source": [
    "import numpy as np\n",
    "\n",
    "(labels, frequency) = np.unique(y_train, return_counts=True)\n",
    "plt.bar(labels, frequency)\n",
    "plt.xlabel(\"Traffic Sign Labels\")\n",
    "plt.ylabel(\"Frequency of labels\")\n",
    "plt.title(\"Labels v/s Frequency in training dataset\")\n",
    "plt.show()\n",
    "\n"
   ]
  },
  {
   "cell_type": "code",
   "execution_count": 6,
   "metadata": {},
   "outputs": [
    {
     "data": {
      "image/png": "[encoded data removed]",
      "text/plain": [
       "<matplotlib.figure.Figure at 0x7fb69ec11748>"
      ]
     },
     "metadata": {
      "needs_background": "light"
     },
     "output_type": "display_data"
    }
   ],
   "source": [
    "import numpy as np\n",
    "\n",
    "(labels, frequency) = np.unique(y_valid, return_counts=True)\n",
    "plt.bar(labels, frequency)\n",
    "plt.xlabel(\"Traffic Sign Labels\")\n",
    "plt.ylabel(\"Frequency of labels\")\n",
    "plt.title(\"Labels v/s Frequency in Validation dataset\")\n",
    "plt.show()"
   ]
  },
  {
   "cell_type": "code",
   "execution_count": 7,
   "metadata": {},
   "outputs": [
    {
     "data": {
      "image/png": "[encoded data removed]",
      "text/plain": [
       "<matplotlib.figure.Figure at 0x7fb69eb485f8>"
      ]
     },
     "metadata": {
      "needs_background": "light"
     },
     "output_type": "display_data"
    }
   ],
   "source": [
    "import numpy as np\n",
    "\n",
    "(labels, frequency) = np.unique(y_test, return_counts=True)\n",
    "plt.bar(labels, frequency)\n",
    "plt.xlabel(\"Traffic Sign Labels\")\n",
    "plt.ylabel(\"Frequency of labels\")\n",
    "plt.title(\"Labels v/s Frequency in Test dataset\")\n",
    "plt.show()"
   ]
  },
  {
   "cell_type": "markdown",
   "metadata": {},
   "source": [
    "----\n",
    "\n",
    "## Step 2: Design and Test a Model Architecture\n",
    "\n",
    "Design and implement a deep learning model that learns to recognize traffic signs. Train and test your model on the [German Traffic Sign Dataset](http://benchmark.ini.rub.de/?section=gtsrb&subsection=dataset).\n",
    "\n",
    "The LeNet-5 implementation shown in the [classroom](https://classroom.udacity.com/nanodegrees/nd013/parts/fbf77062-5703-404e-b60c-95b78b2f3f9e/modules/6df7ae49-c61c-4bb2-a23e-6527e69209ec/lessons/601ae704-1035-4287-8b11-e2c2716217ad/concepts/d4aca031-508f-4e0b-b493-e7b706120f81) at the end of the CNN lesson is a solid starting point. You'll have to change the number of classes and possibly the preprocessing, but aside from that it's plug and play! \n",
    "\n",
    "With the LeNet-5 solution from the lecture, you should expect a validation set accuracy of about 0.89. To meet specifications, the validation set accuracy will need to be at least 0.93. It is possible to get an even higher accuracy, but 0.93 is the minimum for a successful project submission. \n",
    "\n",
    "There are various aspects to consider when thinking about this problem:\n",
    "\n",
    "- Neural network architecture (is the network over or underfitting?)\n",
    "- Play around preprocessing techniques (normalization, rgb to grayscale, etc)\n",
    "- Number of examples per label (some have more than others).\n",
    "- Generate fake data.\n",
    "\n",
    "Here is an example of a [published baseline model on this problem](http://yann.lecun.com/exdb/publis/pdf/sermanet-ijcnn-11.pdf). It's not required to be familiar with the approach used in the paper but, it's good practice to try to read papers like these."
   ]
  },
  {
   "cell_type": "markdown",
   "metadata": {},
   "source": [
    "### Pre-process the Data Set (normalization, grayscale, etc.)"
   ]
  },
  {
   "cell_type": "markdown",
   "metadata": {},
   "source": [
    "Minimally, the image data should be normalized so that the data has mean zero and equal variance. For image data, `(pixel - 128)/ 128` is a quick way to approximately normalize the data and can be used in this project. \n",
    "\n",
    "Other pre-processing steps are optional. You can try different techniques to see if it improves performance. \n",
    "\n",
    "Use the code cell (or multiple code cells, if necessary) to implement the first step of your project."
   ]
  },
  {
   "cell_type": "code",
   "execution_count": 8,
   "metadata": {},
   "outputs": [],
   "source": [
    "is_normalized = False"
   ]
  },
  {
   "cell_type": "code",
   "execution_count": 9,
   "metadata": {},
   "outputs": [],
   "source": [
    "## Expermenting with Image rotation to generate additional Data\n",
    "\n",
    "#from skimage.transform import rotate\n",
    "## List of labels with insuffient images, obatined from looking at the histogram above\n",
    "#unbalanced_labels = (0,6,15,16,19,20,21,22,23,24,26,27,28,29,30,31,32,33,34,36,37,39,40,41,42)\n",
    "#X_augmented_data = []\n",
    "#Y_augmented_data_label = []\n",
    "\n",
    "#for img,label in zip(X_train,y_train):\n",
    "    #if label in unbalanced_labels:\n",
    "        #img_rotated = rotate(img, angle = 5, resize=False)\n",
    "        #X_augmented_data.append(img_rotated)\n",
    "        #Y_augmented_data_label.append(label)\n",
    "    #img_rotated = rotate(img, angle = -5, resize=False)\n",
    "    #X_augmented_data.append(img_rotated)\n",
    "    #Y_augmented_data_label.append(label)\n",
    "        #img_rotated = rotate(img, angle = 7, resize=False)\n",
    "        #X_augmented_data.append(img_rotated)\n",
    "        #Y_augmented_data_label.append(label)\n",
    "        #img_rotated = rotate(img, angle = -7, resize=False)\n",
    "        #X_augmented_data.append(img_rotated)\n",
    "        #Y_augmented_data_label.append(label)\n",
    "        #img_rotated = rotate(img, angle = 10, resize=False)\n",
    "        #X_augmented_data.append(img_rotated)\n",
    "        #Y_augmented_data_label.append(label)\n",
    "        #img_rotated = rotate(img, angle = -10, resize=False)\n",
    "        #X_augmented_data.append(img_rotated)\n",
    "        #Y_augmented_data_label.append(label)\n",
    "        #img_rotated = rotate(img, angle = 15, resize=False)\n",
    "        #X_augmented_data.append(img_rotated)\n",
    "        #Y_augmented_data_label.append(label)\n",
    "        #img_rotated = rotate(img, angle = -15, resize=False)\n",
    "        #X_augmented_data.append(img_rotated)\n",
    "        #Y_augmented_data_label.append(label)\n",
    "        \n",
    "        \n",
    "#def rotate(img)\n",
    "#f, (ax1, ax2, ax3, ax4) = plt.subplots(1, 4, figsize=(20,10))\n",
    "#ax1.imshow(X_augmented_data[0])\n",
    "#ax1.set_xlabel(labels_dict[Y_augmented_data_label[0]])\n",
    "#ax2.imshow(X_train[9960])\n",
    "#ax2.set_xlabel(labels_dict[y_train[9960]])\n",
    "#ax3.imshow(X_augmented_data[1])\n",
    "#ax3.set_xlabel(labels_dict[Y_augmented_data_label[1]])\n",
    "#ax4.imshow(X_train[9961])\n",
    "#ax4.set_xlabel(labels_dict[y_train[9961]])\n",
    "\n",
    "#X_train_comb = []\n",
    "#y_train_comb = []\n",
    "#X_train_comb.extend(X_train)\n",
    "#X_train_comb.extend(X_augmented_data)\n",
    "#y_train_comb.extend(y_train)\n",
    "#y_train_comb.extend(Y_augmented_data_label)\n",
    "\n",
    "#X_train = np.array(X_train_comb)\n",
    "#y_train = np.array(y_train_comb)"
   ]
  },
  {
   "cell_type": "code",
   "execution_count": 10,
   "metadata": {},
   "outputs": [],
   "source": [
    "## Expermenting with Histogram equalization for pre-processing\n",
    "\n",
    "#from skimage import exposure\n",
    "\n",
    "#def global_histo_equalize(img):\n",
    "    # Global equalize\n",
    "#    return (exposure.equalize_hist(img))\n",
    "\n",
    "#X_train = global_histo_equalize(X_train)"
   ]
  },
  {
   "cell_type": "code",
   "execution_count": 11,
   "metadata": {},
   "outputs": [
    {
     "name": "stdout",
     "output_type": "stream",
     "text": [
      "(34799, 32, 32, 3)\n",
      "Normalizing\n",
      "(34799, 32, 32, 1)\n"
     ]
    }
   ],
   "source": [
    "from sklearn import preprocessing\n",
    "from skimage.transform import rotate\n",
    "import numpy as np\n",
    "import cv2\n",
    "### Preprocess the data here. It is required to normalize the data. Other preprocessing steps could include \n",
    "### converting to grayscale, etc.\n",
    "### Feel free to use as many code cells as needed.\n",
    "\n",
    "## Coverting to Grayscale and Normalizing the image data\n",
    "\n",
    "def normalize_img(rgb_img):\n",
    "    gray = np.sum(rgb_img/3,axis=3,keepdims=True)\n",
    "    gray_normal = (gray - 128)/128\n",
    "    return gray_normal\n",
    "    \n",
    "print(X_train.shape)\n",
    "if is_normalized==False:\n",
    "    print(\"Normalizing\")\n",
    "    X_train = normalize_img(X_train)\n",
    "    print(X_train.shape)\n",
    "\n",
    "    X_valid = normalize_img(X_valid)\n",
    "\n",
    "    X_test = normalize_img(X_test)\n",
    "\n",
    "    is_normalized = True\n"
   ]
  },
  {
   "cell_type": "code",
   "execution_count": 12,
   "metadata": {},
   "outputs": [
    {
     "data": {
      "text/plain": [
       "Text(0.5,0,'Ahead only')"
      ]
     },
     "execution_count": 12,
     "metadata": {},
     "output_type": "execute_result"
    },
    {
     "data": {
      "image/png": "[encoded data removed]",
      "text/plain": [
       "<matplotlib.figure.Figure at 0x7fb69ec6fe80>"
      ]
     },
     "metadata": {
      "needs_background": "light"
     },
     "output_type": "display_data"
    }
   ],
   "source": [
    "### Data exploration visualization code goes here.\n",
    "### Feel free to use as many code cells as needed.\n",
    "import matplotlib.pyplot as plt\n",
    "#from skimage.io import imread, imshow\n",
    "# Visualizations will be shown in the notebook.\n",
    "%matplotlib inline\n",
    "\n",
    "f, (ax1, ax2, ax3, ax4) = plt.subplots(1, 4, figsize=(20,10))\n",
    "ax1.imshow(X_train[10000].squeeze(), cmap='gray')\n",
    "ax1.set_xlabel(labels_dict[y_train[10000]])\n",
    "ax2.imshow(X_train[5000].squeeze(), cmap='gray')\n",
    "ax2.set_xlabel(labels_dict[y_train[5000]])\n",
    "ax3.imshow(X_train[15000].squeeze(), cmap='gray')\n",
    "ax3.set_xlabel(labels_dict[y_train[15000]])\n",
    "ax4.imshow(X_train[20000].squeeze(), cmap='gray')\n",
    "ax4.set_xlabel(labels_dict[y_train[20000]])"
   ]
  },
  {
   "cell_type": "markdown",
   "metadata": {},
   "source": [
    "### Model Architecture"
   ]
  },
  {
   "cell_type": "code",
   "execution_count": 13,
   "metadata": {},
   "outputs": [],
   "source": [
    "### Define your architecture here.\n",
    "### Feel free to use as many code cells as needed.\n",
    "## Using Lenet Architecture as base used in the CNN lecture\n",
    "import tensorflow as tf \n",
    "from tensorflow.contrib.layers import flatten\n",
    "\n",
    "def LeNet(x):\n",
    "    # Arguments used for tf.truncated_normal, randomly defines variables for the weights and biases for each layer\n",
    "    mu = 0\n",
    "    sigma = 0.05\n",
    "    \n",
    "    ## Convolution Layer-1: Input = 32x32x1. Output = 28x28x6\n",
    "    w1 = tf.Variable(tf.truncated_normal(shape=[5, 5, 1, 6], mean = mu, stddev = sigma))\n",
    "    b1 = tf.Variable(tf.zeros(6))\n",
    "    conv_1 = tf.nn.conv2d(x,w1,strides=[1,1,1,1],padding=\"VALID\")\n",
    "    conv_1 = tf.nn.bias_add(conv_1, b1)\n",
    "    \n",
    "\n",
    "    ## Activation function\n",
    "    conv_1 = tf.nn.relu(conv_1)\n",
    "    \n",
    "    ## Applying batch normalization on convolution layer\n",
    "    ## Reference : http://ruishu.io/2016/12/27/batchnorm/\n",
    "    conv_1 = tf.contrib.layers.batch_norm(conv_1, is_training=phase)\n",
    "    \n",
    "    \n",
    "    ##Pooling layer.Input = 28x28x6. Output = 14x14x6.\n",
    "    conv_1 = tf.nn.max_pool(conv_1,ksize=[1,2,2,1],strides=[1,2,2,1],padding='VALID')\n",
    "    \n",
    "    ## Convolution Layer-2: Input = 14x14x6. Output = 10x10x16\n",
    "    w2 = tf.Variable(tf.truncated_normal(shape=[5,5,6,16], mean = mu, stddev = sigma))\n",
    "    b2 = tf.Variable(tf.zeros(16))\n",
    "    conv_2 = tf.nn.conv2d(conv_1,w2,strides=[1,1,1,1],padding=\"VALID\")\n",
    "    conv_2 = tf.nn.bias_add(conv_2, b2)\n",
    "    \n",
    "    \n",
    "    ## Activation function\n",
    "    conv_2 = tf.nn.relu(conv_2)\n",
    "    \n",
    "    ## Applying batch normalization on convolution layer\n",
    "    ## Reference : http://ruishu.io/2016/12/27/batchnorm/\n",
    "    conv_2 = tf.contrib.layers.batch_norm(conv_2, is_training=phase)\n",
    "    \n",
    "    ##Pooling layer.Input = 10x10x16. Output = 5x5x16.\n",
    "    conv_2 = tf.nn.max_pool(conv_2,ksize=[1,2,2,1],strides=[1,2,2,1],padding='VALID')\n",
    "    \n",
    "    ##Flatten. Input = 5x5x16. Output = 400.\n",
    "    conv_output = tf.contrib.layers.flatten(conv_2) \n",
    "    \n",
    "    ##Layer 3: Fully Connected. Input = 400. Output = 120.\n",
    "    w3 = tf.Variable(tf.truncated_normal(shape=[5*5*16,120], mean = mu, stddev = sigma))\n",
    "    b3 = tf.Variable(tf.zeros(120))\n",
    "    layer_3 = tf.add(tf.matmul(conv_output,w3),b3)\n",
    "    \n",
    "    # Activation.\n",
    "    layer_3 = tf.nn.relu(layer_3)\n",
    "    \n",
    "    ## Adding Dropout\n",
    "    layer_3 = tf.nn.dropout(layer_3,keep_prob)\n",
    "    \n",
    "    ##Layer 4: Fully Connected. Input = 120. Output = 84.\n",
    "    w4 = tf.Variable(tf.truncated_normal(shape=[120, 84], mean = mu, stddev = sigma))\n",
    "    b4 = tf.Variable(tf.zeros(84))\n",
    "    layer_4 = tf.add(tf.matmul(layer_3,w4),b4)\n",
    "    \n",
    "    ##Activation.\n",
    "    layer_4 = tf.nn.relu(layer_4)\n",
    "    ## Adding Dropout\n",
    "    layer_4 = tf.nn.dropout(layer_4,keep_prob)\n",
    "    \n",
    "    # TODO: Layer 5: Fully Connected. Input = 84. Output = n_classes.\n",
    "    w5 = tf.Variable(tf.truncated_normal(shape=[84,n_classes],mean = mu, stddev = sigma))\n",
    "    b5 = tf.Variable(tf.zeros(n_classes))\n",
    "    logits = tf.add(tf.matmul(layer_4,w5),b5)\n",
    "    \n",
    "    return logits\n"
   ]
  },
  {
   "cell_type": "markdown",
   "metadata": {},
   "source": [
    "### Train, Validate and Test the Model"
   ]
  },
  {
   "cell_type": "markdown",
   "metadata": {},
   "source": [
    "A validation set can be used to assess how well the model is performing. A low accuracy on the training and validation\n",
    "sets imply underfitting. A high accuracy on the training set but low accuracy on the validation set implies overfitting."
   ]
  },
  {
   "cell_type": "code",
   "execution_count": 14,
   "metadata": {},
   "outputs": [],
   "source": [
    "### Train your model here.\n",
    "### Calculate and report the accuracy on the training and validation set.\n",
    "### Once a final model architecture is selected, \n",
    "### the accuracy on the test set should be calculated and reported as well.\n",
    "### Feel free to use as many code cells as needed.\n",
    "\n",
    "## Shuffle the Training data\n",
    "from sklearn.utils import shuffle\n",
    "\n",
    "X_train, y_train = shuffle(X_train, y_train)"
   ]
  },
  {
   "cell_type": "code",
   "execution_count": 15,
   "metadata": {},
   "outputs": [],
   "source": [
    "## Setup Epoch and batch size\n",
    "\n",
    "EPOCHS = 20\n",
    "BATCH_SIZE = 64"
   ]
  },
  {
   "cell_type": "code",
   "execution_count": 16,
   "metadata": {},
   "outputs": [],
   "source": [
    "## Placeholder variables for supplying images of different batch sizes\n",
    "x = tf.placeholder(tf.float32, (None, 32, 32, 1))\n",
    "y = tf.placeholder(tf.int32, (None))\n",
    "\n",
    "## Placeholder variable for Batch normalization\n",
    "## To indiciate whether the model is in train or test phase\n",
    "## Reference : http://ruishu.io/2016/12/27/batchnorm/\n",
    "phase = tf.placeholder(tf.bool, name='phase')\n",
    "\n",
    "## Placeholder variable for Dropouts used on Fully-connected layer\n",
    "keep_prob = tf.placeholder(tf.float32)\n",
    "\n",
    "## One-hot encoding the traffic labels\n",
    "one_hot_y = tf.one_hot(y, n_classes)"
   ]
  },
  {
   "cell_type": "code",
   "execution_count": 17,
   "metadata": {},
   "outputs": [],
   "source": [
    "## Training Pipeline\n",
    "\n",
    "learn_rate = 0.0005\n",
    "\n",
    "logits = LeNet(x)\n",
    "cross_entropy = tf.nn.softmax_cross_entropy_with_logits(labels=one_hot_y, logits=logits)\n",
    "loss_operation = tf.reduce_mean(cross_entropy)\n",
    "optimizer = tf.train.AdamOptimizer(learning_rate = learn_rate)\n",
    "\n",
    "## Reference for update step needed to implement Batch normalization during training:\n",
    "## http://ruishu.io/2016/12/27/batchnorm/\n",
    "\n",
    "update_ops = tf.get_collection(tf.GraphKeys.UPDATE_OPS)\n",
    "with tf.control_dependencies(update_ops):\n",
    "    training_operation = optimizer.minimize(loss_operation)"
   ]
  },
  {
   "cell_type": "code",
   "execution_count": 18,
   "metadata": {},
   "outputs": [],
   "source": [
    "## Model Evaluation\n",
    "\n",
    "correct_prediction = tf.equal(tf.argmax(logits, 1), tf.argmax(one_hot_y, 1))\n",
    "accuracy_operation = tf.reduce_mean(tf.cast(correct_prediction, tf.float32))\n",
    "saver = tf.train.Saver()\n",
    "\n",
    "def evaluate(X_data, y_data):\n",
    "    num_examples = len(X_data)\n",
    "    total_accuracy = 0\n",
    "    sess = tf.get_default_session()\n",
    "    for offset in range(0, num_examples, BATCH_SIZE):\n",
    "        batch_x, batch_y = X_data[offset:offset+BATCH_SIZE], y_data[offset:offset+BATCH_SIZE]\n",
    "        ## Reference : http://ruishu.io/2016/12/27/batchnorm/\n",
    "        ## phase - 0(False) - indicates test phase \n",
    "        accuracy = sess.run(accuracy_operation, feed_dict={x: batch_x, y: batch_y,phase: 0,keep_prob:1.0})\n",
    "        total_accuracy += (accuracy * len(batch_x))\n",
    "    return total_accuracy / num_examples"
   ]
  },
  {
   "cell_type": "code",
   "execution_count": 19,
   "metadata": {},
   "outputs": [
    {
     "name": "stdout",
     "output_type": "stream",
     "text": [
      "Training...\n",
      "\n",
      "EPOCH 1 ...\n",
      "Validation Accuracy = 0.048\n",
      "\n",
      "EPOCH 2 ...\n",
      "Validation Accuracy = 0.048\n",
      "\n",
      "EPOCH 3 ...\n",
      "Validation Accuracy = 0.048\n",
      "\n",
      "EPOCH 4 ...\n",
      "Validation Accuracy = 0.061\n",
      "\n",
      "EPOCH 5 ...\n",
      "Validation Accuracy = 0.080\n",
      "\n",
      "EPOCH 6 ...\n",
      "Validation Accuracy = 0.266\n",
      "\n",
      "EPOCH 7 ...\n",
      "Validation Accuracy = 0.481\n",
      "\n",
      "EPOCH 8 ...\n",
      "Validation Accuracy = 0.740\n",
      "\n",
      "EPOCH 9 ...\n",
      "Validation Accuracy = 0.905\n",
      "\n",
      "EPOCH 10 ...\n",
      "Validation Accuracy = 0.946\n",
      "\n",
      "EPOCH 11 ...\n",
      "Validation Accuracy = 0.955\n",
      "\n",
      "EPOCH 12 ...\n",
      "Validation Accuracy = 0.946\n",
      "\n",
      "EPOCH 13 ...\n",
      "Validation Accuracy = 0.963\n",
      "\n",
      "EPOCH 14 ...\n",
      "Validation Accuracy = 0.962\n",
      "\n",
      "EPOCH 15 ...\n",
      "Validation Accuracy = 0.936\n",
      "\n",
      "EPOCH 16 ...\n",
      "Validation Accuracy = 0.946\n",
      "\n",
      "EPOCH 17 ...\n",
      "Validation Accuracy = 0.962\n",
      "\n",
      "EPOCH 18 ...\n",
      "Validation Accuracy = 0.961\n",
      "\n",
      "EPOCH 19 ...\n",
      "Validation Accuracy = 0.963\n",
      "\n",
      "EPOCH 20 ...\n",
      "Validation Accuracy = 0.966\n",
      "\n",
      "Model saved\n"
     ]
    }
   ],
   "source": [
    "## Trainng the model\n",
    "\n",
    "with tf.Session() as sess:\n",
    "    sess.run(tf.global_variables_initializer())\n",
    "    num_examples = len(X_train)\n",
    "    \n",
    "    print(\"Training...\")\n",
    "    print()\n",
    "    for i in range(EPOCHS):\n",
    "        X_train, y_train = shuffle(X_train, y_train)\n",
    "        for offset in range(0, num_examples, BATCH_SIZE):\n",
    "            end = offset + BATCH_SIZE\n",
    "            batch_x, batch_y = X_train[offset:end], y_train[offset:end]\n",
    "            ## Reference : http://ruishu.io/2016/12/27/batchnorm/\n",
    "            ## phase - 1(True) - indicates training phase \n",
    "            sess.run(training_operation, feed_dict={x: batch_x, y: batch_y,phase: 1,keep_prob:0.6})\n",
    "            \n",
    "        validation_accuracy = evaluate(X_valid, y_valid)\n",
    "        print(\"EPOCH {} ...\".format(i+1))\n",
    "        print(\"Validation Accuracy = {:.3f}\".format(validation_accuracy))\n",
    "        print()\n",
    "        \n",
    "    saver.save(sess, './lenet')\n",
    "    print(\"Model saved\")"
   ]
  },
  {
   "cell_type": "code",
   "execution_count": 20,
   "metadata": {},
   "outputs": [
    {
     "name": "stdout",
     "output_type": "stream",
     "text": [
      "INFO:tensorflow:Restoring parameters from ./lenet\n",
      "Test Accuracy = 0.942\n"
     ]
    }
   ],
   "source": [
    "## Checking Accuracy on test images after training the model\n",
    "with tf.Session() as sess:\n",
    "    saver.restore(sess, tf.train.latest_checkpoint('.'))\n",
    "\n",
    "    test_accuracy = evaluate(X_test, y_test)\n",
    "    print(\"Test Accuracy = {:.3f}\".format(test_accuracy))"
   ]
  },
  {
   "cell_type": "markdown",
   "metadata": {},
   "source": [
    "---\n",
    "\n",
    "## Step 3: Test a Model on New Images\n",
    "\n",
    "To give yourself more insight into how your model is working, download at least five pictures of German traffic signs from the web and use your model to predict the traffic sign type.\n",
    "\n",
    "You may find `signnames.csv` useful as it contains mappings from the class id (integer) to the actual sign name."
   ]
  },
  {
   "cell_type": "markdown",
   "metadata": {},
   "source": [
    "### Load and Output the Images"
   ]
  },
  {
   "cell_type": "code",
   "execution_count": 28,
   "metadata": {},
   "outputs": [
    {
     "name": "stdout",
     "output_type": "stream",
     "text": [
      "(5, 32, 32, 3)\n"
     ]
    }
   ],
   "source": [
    "### Load the images and plot them here.\n",
    "### Feel free to use as many code cells as needed.\n",
    "import cv2\n",
    "import matplotlib.pyplot as plt\n",
    "import os\n",
    "import numpy as np\n",
    "\n",
    "\n",
    "## The checkpoint is getting saved in the folder containing new images\n",
    "## Move the images to a new folder before testing\n",
    "location = \"New_images/\"\n",
    "new_images = []\n",
    "new_img_labels = [30,2,19,20,15]\n",
    "for img_loc in os.listdir(location):\n",
    "    img = cv2.imread(location + img_loc)\n",
    "    img = cv2.resize(img,(32,32))\n",
    "    img = cv2.cvtColor(img,cv2.COLOR_BGR2RGB)\n",
    "    new_images.append(img)\n",
    "\n",
    "new_images = np.array(new_images)\n",
    "print(new_images.shape)"
   ]
  },
  {
   "cell_type": "code",
   "execution_count": 29,
   "metadata": {},
   "outputs": [],
   "source": [
    "import csv\n",
    "\n",
    "with open('signnames.csv') as csv_file:\n",
    "    csv_reader = csv.reader(csv_file, delimiter=',')\n",
    "    ## Skip the header\n",
    "    ## Reference : https://stackoverflow.com/questions/48716446/python-skip-header-row-with-csv-reader\n",
    "    next(csv_reader, None)\n",
    "    labels_dict = {}\n",
    "    for row in csv_reader:\n",
    "        labels_dict[int(row[0])] = row[1]"
   ]
  },
  {
   "cell_type": "code",
   "execution_count": 30,
   "metadata": {},
   "outputs": [
    {
     "data": {
      "text/plain": [
       "Text(0.5,0,'No vehicles')"
      ]
     },
     "execution_count": 30,
     "metadata": {},
     "output_type": "execute_result"
    },
    {
     "data": {
      "image/png": "[encoded data removed]",
      "text/plain": [
       "<matplotlib.figure.Figure at 0x7fb66c3c9438>"
      ]
     },
     "metadata": {
      "needs_background": "light"
     },
     "output_type": "display_data"
    }
   ],
   "source": [
    "import matplotlib.pyplot as plt\n",
    "%matplotlib inline\n",
    "\n",
    "f, (ax1, ax2, ax3, ax4,ax5) = plt.subplots(1, 5, figsize=(20,10))\n",
    "ax1.imshow(new_images[0])\n",
    "ax1.set_xlabel(labels_dict[new_img_labels[0]])\n",
    "ax2.imshow(new_images[1])\n",
    "ax2.set_xlabel(labels_dict[new_img_labels[1]])\n",
    "ax3.imshow(new_images[2])\n",
    "ax3.set_xlabel(labels_dict[new_img_labels[2]])\n",
    "ax4.imshow(new_images[3])\n",
    "ax4.set_xlabel(labels_dict[new_img_labels[3]])\n",
    "ax5.imshow(new_images[4])\n",
    "ax5.set_xlabel(labels_dict[new_img_labels[4]])"
   ]
  },
  {
   "cell_type": "markdown",
   "metadata": {},
   "source": [
    "### Predict the Sign Type for Each Image"
   ]
  },
  {
   "cell_type": "code",
   "execution_count": 31,
   "metadata": {},
   "outputs": [
    {
     "name": "stdout",
     "output_type": "stream",
     "text": [
      "(5, 32, 32, 1)\n"
     ]
    }
   ],
   "source": [
    "### Run the predictions here and use the model to output the prediction for each image.\n",
    "### Make sure to pre-process the images with the same pre-processing pipeline used earlier.\n",
    "### Feel free to use as many code cells as needed.\n",
    "\n",
    "\n",
    "## Preprocess the image\n",
    "\n",
    "from sklearn import preprocessing\n",
    "from skimage.transform import rotate\n",
    "import numpy as np\n",
    "import cv2\n",
    "\n",
    "## Coverting to Grayscale and Normalizing the image data\n",
    "\n",
    "def normalize_img(rgb_img):\n",
    "    gray = np.sum(rgb_img/3,axis=3,keepdims=True)\n",
    "    gray_normal = (gray - 128)/128\n",
    "    return gray_normal\n",
    "    \n",
    "\n",
    "new_images = normalize_img(new_images)\n",
    "print(new_images.shape)"
   ]
  },
  {
   "cell_type": "markdown",
   "metadata": {},
   "source": [
    "### Analyze Performance"
   ]
  },
  {
   "cell_type": "code",
   "execution_count": 32,
   "metadata": {},
   "outputs": [
    {
     "name": "stdout",
     "output_type": "stream",
     "text": [
      "INFO:tensorflow:Restoring parameters from ./lenet\n",
      "Test Accuracy = 0.400\n"
     ]
    }
   ],
   "source": [
    "### Calculate the accuracy for these 5 new images. \n",
    "### For example, if the model predicted 1 out of 5 signs correctly, it's 20% accurate on these new images.\n",
    "import tensorflow as tf\n",
    "\n",
    "with tf.Session() as sess:\n",
    "    saver.restore(sess, tf.train.latest_checkpoint('.'))\n",
    "\n",
    "    test_accuracy = evaluate(new_images, new_img_labels)\n",
    "    print(\"Test Accuracy = {:.3f}\".format(test_accuracy))"
   ]
  },
  {
   "cell_type": "markdown",
   "metadata": {},
   "source": [
    "### Output Top 5 Softmax Probabilities For Each Image Found on the Web"
   ]
  },
  {
   "cell_type": "markdown",
   "metadata": {},
   "source": [
    "For each of the new images, print out the model's softmax probabilities to show the **certainty** of the model's predictions (limit the output to the top 5 probabilities for each image). [`tf.nn.top_k`](https://www.tensorflow.org/versions/r0.12/api_docs/python/nn.html#top_k) could prove helpful here. \n",
    "\n",
    "The example below demonstrates how tf.nn.top_k can be used to find the top k predictions for each image.\n",
    "\n",
    "`tf.nn.top_k` will return the values and indices (class ids) of the top k predictions. So if k=3, for each sign, it'll return the 3 largest probabilities (out of a possible 43) and the correspoding class ids.\n",
    "\n",
    "Take this numpy array as an example. The values in the array represent predictions. The array contains softmax probabilities for five candidate images with six possible classes. `tf.nn.top_k` is used to choose the three classes with the highest probability:\n",
    "\n",
    "```\n",
    "# (5, 6) array\n",
    "a = np.array([[ 0.24879643,  0.07032244,  0.12641572,  0.34763842,  0.07893497,\n",
    "         0.12789202],\n",
    "       [ 0.28086119,  0.27569815,  0.08594638,  0.0178669 ,  0.18063401,\n",
    "         0.15899337],\n",
    "       [ 0.26076848,  0.23664738,  0.08020603,  0.07001922,  0.1134371 ,\n",
    "         0.23892179],\n",
    "       [ 0.11943333,  0.29198961,  0.02605103,  0.26234032,  0.1351348 ,\n",
    "         0.16505091],\n",
    "       [ 0.09561176,  0.34396535,  0.0643941 ,  0.16240774,  0.24206137,\n",
    "         0.09155967]])\n",
    "```\n",
    "\n",
    "Running it through `sess.run(tf.nn.top_k(tf.constant(a), k=3))` produces:\n",
    "\n",
    "```\n",
    "TopKV2(values=array([[ 0.34763842,  0.24879643,  0.12789202],\n",
    "       [ 0.28086119,  0.27569815,  0.18063401],\n",
    "       [ 0.26076848,  0.23892179,  0.23664738],\n",
    "       [ 0.29198961,  0.26234032,  0.16505091],\n",
    "       [ 0.34396535,  0.24206137,  0.16240774]]), indices=array([[3, 0, 5],\n",
    "       [0, 1, 4],\n",
    "       [0, 5, 1],\n",
    "       [1, 3, 5],\n",
    "       [1, 4, 3]], dtype=int32))\n",
    "```\n",
    "\n",
    "Looking just at the first row we get `[ 0.34763842,  0.24879643,  0.12789202]`, you can confirm these are the 3 largest probabilities in `a`. You'll also notice `[3, 0, 5]` are the corresponding indices."
   ]
  },
  {
   "cell_type": "code",
   "execution_count": 33,
   "metadata": {},
   "outputs": [
    {
     "name": "stdout",
     "output_type": "stream",
     "text": [
      "INFO:tensorflow:Restoring parameters from ./lenet\n",
      "Top 5 probabilities: [[  1.00000000e+00   5.90902483e-09   6.05587141e-13   5.51181491e-15\n",
      "    2.79940662e-15]\n",
      " [  4.48304236e-01   1.42774716e-01   5.81071638e-02   5.70781119e-02\n",
      "    5.33392839e-02]\n",
      " [  1.00000000e+00   2.04587722e-10   3.36140248e-19   1.03848395e-22\n",
      "    6.68136157e-24]\n",
      " [  9.99995589e-01   2.89622744e-06   1.51321444e-06   1.87806926e-08\n",
      "    8.05765676e-09]\n",
      " [  1.00000000e+00   2.24373589e-10   2.03206527e-12   7.24245289e-14\n",
      "    1.00723627e-14]]\n",
      "Indicies: [[11 30 12 34 16]\n",
      " [ 9  3 15 10 38]\n",
      " [19 23  9 30 21]\n",
      " [10  9 19 42  7]\n",
      " [15  2 13 12 38]]\n"
     ]
    }
   ],
   "source": [
    "### Print out the top five softmax probabilities for the predictions on the German traffic sign images found on the web. \n",
    "### Feel free to use as many code cells as needed.\n",
    "\n",
    "\n",
    "## Reference :  https://knowledge.udacity.com/questions/198519\n",
    "softmax = tf.nn.softmax(logits)\n",
    "top5_pred = tf.nn.top_k(softmax, 5)\n",
    "index = 0\n",
    "with tf.Session() as sess:\n",
    "    saver.restore(sess, tf.train.latest_checkpoint('.'))\n",
    "    result = sess.run(top5_pred, feed_dict={x: new_images, y: new_img_labels,phase: 0,keep_prob:1})\n",
    "    result_prob  = result.values\n",
    "    result_indx   = result.indices\n",
    "    \n",
    "    print(\"Top 5 probabilities: {}\".format(result_prob))\n",
    "    print(\"Indicies: {}\".format(result_indx))\n",
    "    index+=1\n"
   ]
  },
  {
   "cell_type": "markdown",
   "metadata": {},
   "source": [
    "### Project Writeup\n",
    "\n",
    "Once you have completed the code implementation, document your results in a project writeup using this [template](https://github.com/udacity/CarND-Traffic-Sign-Classifier-Project/blob/master/writeup_template.md) as a guide. The writeup can be in a markdown or pdf file. "
   ]
  },
  {
   "cell_type": "markdown",
   "metadata": {},
   "source": [
    "> **Note**: Once you have completed all of the code implementations and successfully answered each question above, you may finalize your work by exporting the iPython Notebook as an HTML document. You can do this by using the menu above and navigating to  \\n\",\n",
    "    \"**File -> Download as -> HTML (.html)**. Include the finished document along with this notebook as your submission."
   ]
  },
  {
   "cell_type": "markdown",
   "metadata": {},
   "source": [
    "---\n",
    "\n",
    "## Step 4 (Optional): Visualize the Neural Network's State with Test Images\n",
    "\n",
    " This Section is not required to complete but acts as an additional excersise for understaning the output of a neural network's weights. While neural networks can be a great learning device they are often referred to as a black box. We can understand what the weights of a neural network look like better by plotting their feature maps. After successfully training your neural network you can see what it's feature maps look like by plotting the output of the network's weight layers in response to a test stimuli image. From these plotted feature maps, it's possible to see what characteristics of an image the network finds interesting. For a sign, maybe the inner network feature maps react with high activation to the sign's boundary outline or to the contrast in the sign's painted symbol.\n",
    "\n",
    " Provided for you below is the function code that allows you to get the visualization output of any tensorflow weight layer you want. The inputs to the function should be a stimuli image, one used during training or a new one you provided, and then the tensorflow variable name that represents the layer's state during the training process, for instance if you wanted to see what the [LeNet lab's](https://classroom.udacity.com/nanodegrees/nd013/parts/fbf77062-5703-404e-b60c-95b78b2f3f9e/modules/6df7ae49-c61c-4bb2-a23e-6527e69209ec/lessons/601ae704-1035-4287-8b11-e2c2716217ad/concepts/d4aca031-508f-4e0b-b493-e7b706120f81) feature maps looked like for it's second convolutional layer you could enter conv2 as the tf_activation variable.\n",
    "\n",
    "For an example of what feature map outputs look like, check out NVIDIA's results in their paper [End-to-End Deep Learning for Self-Driving Cars](https://devblogs.nvidia.com/parallelforall/deep-learning-self-driving-cars/) in the section Visualization of internal CNN State. NVIDIA was able to show that their network's inner weights had high activations to road boundary lines by comparing feature maps from an image with a clear path to one without. Try experimenting with a similar test to show that your trained network's weights are looking for interesting features, whether it's looking at differences in feature maps from images with or without a sign, or even what feature maps look like in a trained network vs a completely untrained one on the same sign image.\n",
    "\n",
    "<figure>\n",
    " <img src=\"visualize_cnn.png\" width=\"380\" alt=\"Combined Image\" />\n",
    " <figcaption>\n",
    " <p></p> \n",
    " <p style=\"text-align: center;\"> Your output should look something like this (above)</p> \n",
    " </figcaption>\n",
    "</figure>\n",
    " <p></p> \n"
   ]
  },
  {
   "cell_type": "code",
   "execution_count": 27,
   "metadata": {},
   "outputs": [],
   "source": [
    "### Visualize your network's feature maps here.\n",
    "### Feel free to use as many code cells as needed.\n",
    "\n",
    "# image_input: the test image being fed into the network to produce the feature maps\n",
    "# tf_activation: should be a tf variable name used during your training procedure that represents the calculated state of a specific weight layer\n",
    "# activation_min/max: can be used to view the activation contrast in more detail, by default matplot sets min and max to the actual min and max values of the output\n",
    "# plt_num: used to plot out multiple different weight feature map sets on the same block, just extend the plt number for each new feature map entry\n",
    "\n",
    "def outputFeatureMap(image_input, tf_activation, activation_min=-1, activation_max=-1 ,plt_num=1):\n",
    "    # Here make sure to preprocess your image_input in a way your network expects\n",
    "    # with size, normalization, ect if needed\n",
    "    # image_input =\n",
    "    # Note: x should be the same name as your network's tensorflow data placeholder variable\n",
    "    # If you get an error tf_activation is not defined it may be having trouble accessing the variable from inside a function\n",
    "    activation = tf_activation.eval(session=sess,feed_dict={x : image_input})\n",
    "    featuremaps = activation.shape[3]\n",
    "    plt.figure(plt_num, figsize=(15,15))\n",
    "    for featuremap in range(featuremaps):\n",
    "        plt.subplot(6,8, featuremap+1) # sets the number of feature maps to show on each row and column\n",
    "        plt.title('FeatureMap ' + str(featuremap)) # displays the feature map number\n",
    "        if activation_min != -1 & activation_max != -1:\n",
    "            plt.imshow(activation[0,:,:, featuremap], interpolation=\"nearest\", vmin =activation_min, vmax=activation_max, cmap=\"gray\")\n",
    "        elif activation_max != -1:\n",
    "            plt.imshow(activation[0,:,:, featuremap], interpolation=\"nearest\", vmax=activation_max, cmap=\"gray\")\n",
    "        elif activation_min !=-1:\n",
    "            plt.imshow(activation[0,:,:, featuremap], interpolation=\"nearest\", vmin=activation_min, cmap=\"gray\")\n",
    "        else:\n",
    "            plt.imshow(activation[0,:,:, featuremap], interpolation=\"nearest\", cmap=\"gray\")"
   ]
  },
  {
   "cell_type": "code",
   "execution_count": null,
   "metadata": {},
   "outputs": [],
   "source": []
  }
 ],
 "metadata": {
  "anaconda-cloud": {},
  "kernelspec": {
   "display_name": "Python 3",
   "language": "python",
   "name": "python3"
  },
  "language_info": {
   "codemirror_mode": {
    "name": "ipython",
    "version": 3
   },
   "file_extension": ".py",
   "mimetype": "text/x-python",
   "name": "python",
   "nbconvert_exporter": "python",
   "pygments_lexer": "ipython3",
   "version": "3.6.3"
  }
 },
 "nbformat": 4,
 "nbformat_minor": 1
}
